{
 "cells": [
  {
   "cell_type": "code",
   "execution_count": 27,
   "metadata": {
    "collapsed": false
   },
   "outputs": [
    {
     "name": "stdout",
     "output_type": "stream",
     "text": [
      "2\n",
      "2\n",
      "8\n",
      "True\n",
      "False\n",
      "{1, 2, 3, 4, 5}\n",
      "{3}\n",
      "{1, 2, 3, 666}\n",
      "{10, 1, 2, 3, 666}\n"
     ]
    }
   ],
   "source": [
    "print((19) // 8) # // cuts the \"comma\", info how often the whole divisor fits into dividend\n",
    "print(18 % 8) # % yields integer \"rest\", no info about how often divisor fits into the dividend\n",
    "x = 9+1\n",
    "print(3+3 if x == 9 else 8)\n",
    "S = {1,2,3}\n",
    "print(x not in S)\n",
    "print(x in S)\n",
    "T = {3,4,5}\n",
    "print(S | T) # union\n",
    "print(S & T) # intersection\n",
    "S.add(666)\n",
    "print(S)\n",
    "S.update({10,10})\n",
    "print(S)"
   ]
  }
 ],
 "metadata": {
  "anaconda-cloud": {},
  "kernelspec": {
   "display_name": "Python [conda root]",
   "language": "python",
   "name": "conda-root-py"
  },
  "language_info": {
   "codemirror_mode": {
    "name": "ipython",
    "version": 3
   },
   "file_extension": ".py",
   "mimetype": "text/x-python",
   "name": "python",
   "nbconvert_exporter": "python",
   "pygments_lexer": "ipython3",
   "version": "3.5.2"
  }
 },
 "nbformat": 4,
 "nbformat_minor": 1
}
